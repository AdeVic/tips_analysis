{
 "cells": [
  {
   "cell_type": "markdown",
   "id": "42b37411-937b-462f-8e9a-5268997483d5",
   "metadata": {},
   "source": [
    "# Tips Data Exploration\n",
    "## by (Adelami Niyi Victor)\n",
    "\n",
    "## Introduction\n",
    "> This dataset is a compilation of tips given in a restaurant over a period of time. It contains the followind variables:\n",
    "\n",
    "    1.  __Total_bill__: The total amoung of food bought \n",
    "    2.  __Tip__: The amount of tip given\n",
    "    3.  __Sex__: The sex of the person giving the tip\n",
    "    4.  __Smoker__: The smoking status of the tip giver\n",
    "    5.  __Day__: The day of the week (Thur, Fri, Sat and Sun)\n",
    "    6.  __Time__: Time of the Day (Lunch or Dinner)\n",
    "    7.  __Size__: The portions of food bought\n",
    "    \n",
    "    \n",
    "## Preliminary Wrangling"
   ]
  },
  {
   "cell_type": "markdown",
   "id": "f8283dc5",
   "metadata": {},
   "source": []
  },
  {
   "cell_type": "code",
   "execution_count": 1,
   "id": "7caf0ee4-546a-4a13-80c6-29a696eeddec",
   "metadata": {},
   "outputs": [],
   "source": [
    "import pandas as pd\n",
    "import matplotlib.pyplot as plt\n",
    "import numpy as np\n",
    "import seaborn as sns\n",
    "from sklearn import linear_model\n",
    "\n",
    "from sklearn.model_selection import train_test_split\n",
    "\n",
    "%matplotlib inline\n",
    "%run ./library/niyi_lib.py"
   ]
  },
  {
   "cell_type": "code",
   "execution_count": 2,
   "id": "e2f18f7a-1c50-435d-ac1a-c1675f8e616a",
   "metadata": {},
   "outputs": [],
   "source": [
    "tips = sns.load_dataset('tips')"
   ]
  },
  {
   "cell_type": "code",
   "execution_count": 3,
   "id": "1d9d42fe-31e3-489b-8ded-f91f797cb342",
   "metadata": {},
   "outputs": [
    {
     "name": "stdout",
     "output_type": "stream",
     "text": [
      "\t\t\tDatatypes\n",
      "---------------------------------------------------------------------------------------------------------\n",
      "total_bill     float64\n",
      "tip            float64\n",
      "sex           category\n",
      "smoker        category\n",
      "day           category\n",
      "time          category\n",
      "size             int64\n",
      "dtype: object \n",
      "\n",
      "\n",
      "\t\t\tRows and Columns\n",
      "---------------------------------------------------------------------------------------------------------\n",
      "There are 244 rows and 7 columns in the dataset\n",
      "\n",
      "\n",
      "\t\t\tMissing Values\n",
      "---------------------------------------------------------------------------------------------------------\n",
      "total_bill    0\n",
      "tip           0\n",
      "sex           0\n",
      "smoker        0\n",
      "day           0\n",
      "time          0\n",
      "size          0\n",
      "dtype: int64 \n",
      "\n",
      "\n",
      "\t\t\tPercentage of Missing Values\n",
      "---------------------------------------------------------------------------------------------------------\n",
      "total_bill    0.0\n",
      "tip           0.0\n",
      "sex           0.0\n",
      "smoker        0.0\n",
      "day           0.0\n",
      "time          0.0\n",
      "size          0.0\n",
      "dtype: float64 \n",
      "\n",
      "\n",
      "\t\t\tDuplicated rows\n",
      "---------------------------------------------------------------------------------------------------------\n",
      "This dataset has 1 duplicated row \n",
      "\n",
      "\n",
      "\t\t\tNumber of Unique Values\n",
      "---------------------------------------------------------------------------------------------------------\n",
      "total_bill    229\n",
      "tip           123\n",
      "sex             2\n",
      "smoker          2\n",
      "day             4\n",
      "time            2\n",
      "size            6\n",
      "dtype: int64 \n",
      "\n",
      "\n"
     ]
    }
   ],
   "source": [
    "#Check important information about the dataset using the imported niyi_lib function\n",
    "stats(tips)"
   ]
  },
  {
   "cell_type": "markdown",
   "id": "635f4293-975b-49e0-9260-67897a5a66ea",
   "metadata": {},
   "source": [
    "### Assessing dataset"
   ]
  },
  {
   "cell_type": "code",
   "execution_count": 6,
   "id": "82ab659b-9430-4f8a-af26-74505dd0fbf1",
   "metadata": {},
   "outputs": [
    {
     "data": {
      "text/html": [
       "<div>\n",
       "<style scoped>\n",
       "    .dataframe tbody tr th:only-of-type {\n",
       "        vertical-align: middle;\n",
       "    }\n",
       "\n",
       "    .dataframe tbody tr th {\n",
       "        vertical-align: top;\n",
       "    }\n",
       "\n",
       "    .dataframe thead th {\n",
       "        text-align: right;\n",
       "    }\n",
       "</style>\n",
       "<table border=\"1\" class=\"dataframe\">\n",
       "  <thead>\n",
       "    <tr style=\"text-align: right;\">\n",
       "      <th></th>\n",
       "      <th>total_bill</th>\n",
       "      <th>tip</th>\n",
       "      <th>sex</th>\n",
       "      <th>smoker</th>\n",
       "      <th>day</th>\n",
       "      <th>time</th>\n",
       "      <th>size</th>\n",
       "    </tr>\n",
       "  </thead>\n",
       "  <tbody>\n",
       "    <tr>\n",
       "      <th>59</th>\n",
       "      <td>48.27</td>\n",
       "      <td>6.73</td>\n",
       "      <td>Male</td>\n",
       "      <td>No</td>\n",
       "      <td>Sat</td>\n",
       "      <td>Dinner</td>\n",
       "      <td>4</td>\n",
       "    </tr>\n",
       "    <tr>\n",
       "      <th>106</th>\n",
       "      <td>20.49</td>\n",
       "      <td>4.06</td>\n",
       "      <td>Male</td>\n",
       "      <td>Yes</td>\n",
       "      <td>Sat</td>\n",
       "      <td>Dinner</td>\n",
       "      <td>2</td>\n",
       "    </tr>\n",
       "    <tr>\n",
       "      <th>153</th>\n",
       "      <td>24.55</td>\n",
       "      <td>2.00</td>\n",
       "      <td>Male</td>\n",
       "      <td>No</td>\n",
       "      <td>Sun</td>\n",
       "      <td>Dinner</td>\n",
       "      <td>4</td>\n",
       "    </tr>\n",
       "    <tr>\n",
       "      <th>99</th>\n",
       "      <td>12.46</td>\n",
       "      <td>1.50</td>\n",
       "      <td>Male</td>\n",
       "      <td>No</td>\n",
       "      <td>Fri</td>\n",
       "      <td>Dinner</td>\n",
       "      <td>2</td>\n",
       "    </tr>\n",
       "    <tr>\n",
       "      <th>231</th>\n",
       "      <td>15.69</td>\n",
       "      <td>3.00</td>\n",
       "      <td>Male</td>\n",
       "      <td>Yes</td>\n",
       "      <td>Sat</td>\n",
       "      <td>Dinner</td>\n",
       "      <td>3</td>\n",
       "    </tr>\n",
       "    <tr>\n",
       "      <th>119</th>\n",
       "      <td>24.08</td>\n",
       "      <td>2.92</td>\n",
       "      <td>Female</td>\n",
       "      <td>No</td>\n",
       "      <td>Thur</td>\n",
       "      <td>Lunch</td>\n",
       "      <td>4</td>\n",
       "    </tr>\n",
       "    <tr>\n",
       "      <th>168</th>\n",
       "      <td>10.59</td>\n",
       "      <td>1.61</td>\n",
       "      <td>Female</td>\n",
       "      <td>Yes</td>\n",
       "      <td>Sat</td>\n",
       "      <td>Dinner</td>\n",
       "      <td>2</td>\n",
       "    </tr>\n",
       "    <tr>\n",
       "      <th>36</th>\n",
       "      <td>16.31</td>\n",
       "      <td>2.00</td>\n",
       "      <td>Male</td>\n",
       "      <td>No</td>\n",
       "      <td>Sat</td>\n",
       "      <td>Dinner</td>\n",
       "      <td>3</td>\n",
       "    </tr>\n",
       "    <tr>\n",
       "      <th>233</th>\n",
       "      <td>10.77</td>\n",
       "      <td>1.47</td>\n",
       "      <td>Male</td>\n",
       "      <td>No</td>\n",
       "      <td>Sat</td>\n",
       "      <td>Dinner</td>\n",
       "      <td>2</td>\n",
       "    </tr>\n",
       "    <tr>\n",
       "      <th>164</th>\n",
       "      <td>17.51</td>\n",
       "      <td>3.00</td>\n",
       "      <td>Female</td>\n",
       "      <td>Yes</td>\n",
       "      <td>Sun</td>\n",
       "      <td>Dinner</td>\n",
       "      <td>2</td>\n",
       "    </tr>\n",
       "  </tbody>\n",
       "</table>\n",
       "</div>"
      ],
      "text/plain": [
       "     total_bill   tip     sex smoker   day    time  size\n",
       "59        48.27  6.73    Male     No   Sat  Dinner     4\n",
       "106       20.49  4.06    Male    Yes   Sat  Dinner     2\n",
       "153       24.55  2.00    Male     No   Sun  Dinner     4\n",
       "99        12.46  1.50    Male     No   Fri  Dinner     2\n",
       "231       15.69  3.00    Male    Yes   Sat  Dinner     3\n",
       "119       24.08  2.92  Female     No  Thur   Lunch     4\n",
       "168       10.59  1.61  Female    Yes   Sat  Dinner     2\n",
       "36        16.31  2.00    Male     No   Sat  Dinner     3\n",
       "233       10.77  1.47    Male     No   Sat  Dinner     2\n",
       "164       17.51  3.00  Female    Yes   Sun  Dinner     2"
      ]
     },
     "execution_count": 6,
     "metadata": {},
     "output_type": "execute_result"
    }
   ],
   "source": [
    "tips.sample(10)"
   ]
  },
  {
   "cell_type": "code",
   "execution_count": 7,
   "id": "4d81cd7c-8d63-4047-a0a7-790c68d5fee4",
   "metadata": {},
   "outputs": [
    {
     "data": {
      "text/plain": [
       "3.0023868312757203"
      ]
     },
     "execution_count": 7,
     "metadata": {},
     "output_type": "execute_result"
    }
   ],
   "source": [
    "#Average tips given by customers \n",
    "tips.tip.mean()"
   ]
  },
  {
   "cell_type": "markdown",
   "id": "2bfaefe8-a4c5-4eaa-976f-07319a237b59",
   "metadata": {},
   "source": [
    "# Quality Issues\n",
    "* There is a duplicated row in the dataset"
   ]
  },
  {
   "cell_type": "markdown",
   "id": "bc4e4229-7926-4a1c-97da-d662d64245a1",
   "metadata": {},
   "source": [
    "## Cleaning Dataset"
   ]
  },
  {
   "cell_type": "markdown",
   "id": "cf191141-db8f-46a9-8439-dbba6887ef3b",
   "metadata": {},
   "source": [
    "#### Define:\n",
    "Drop duplicated row\n"
   ]
  },
  {
   "cell_type": "markdown",
   "id": "78d30624-6700-4ce7-8474-289626493813",
   "metadata": {},
   "source": [
    "#### Code:"
   ]
  },
  {
   "cell_type": "code",
   "execution_count": 53,
   "id": "b211fee8-7551-439b-878c-24432f714d53",
   "metadata": {},
   "outputs": [],
   "source": [
    "tips.drop_duplicates(inplace=True)"
   ]
  },
  {
   "cell_type": "markdown",
   "id": "9a283bab-2317-4f31-b684-c5ef3fec1672",
   "metadata": {},
   "source": [
    "#### Test:\n",
    "Confirm that there is no more duplicates using assert"
   ]
  },
  {
   "cell_type": "code",
   "execution_count": 54,
   "id": "1134b793-8b81-4517-ac99-9209a81d2c80",
   "metadata": {},
   "outputs": [],
   "source": [
    "assert tips.duplicated().sum()==0"
   ]
  },
  {
   "cell_type": "markdown",
   "id": "0e823844-1bd2-460d-8304-573abde0738f",
   "metadata": {},
   "source": [
    "## Univariate Visualization"
   ]
  },
  {
   "cell_type": "code",
   "execution_count": 8,
   "id": "a4cc1851-22f6-4642-a584-d416fbe3a0fd",
   "metadata": {
    "tags": []
   },
   "outputs": [],
   "source": [
    "base_color = sns.color_palette()[0]"
   ]
  },
  {
   "cell_type": "code",
   "execution_count": 9,
   "id": "69ae457f-7276-4156-b207-ea3e1cafa548",
   "metadata": {},
   "outputs": [
    {
     "data": {
      "image/png": "[encoded data removed]",
      "text/plain": [
       "<Figure size 432x288 with 1 Axes>"
      ]
     },
     "metadata": {
      "needs_background": "light"
     },
     "output_type": "display_data"
    }
   ],
   "source": [
    "tips.tip.plot(kind='hist', color = base_color)\n",
    "plt.xlabel('tip');"
   ]
  },
  {
   "cell_type": "code",
   "execution_count": 59,
   "id": "2e7870c5-1ece-4751-a88d-3959bbd3ca01",
   "metadata": {},
   "outputs": [
    {
     "data": {
      "text/plain": [
       "(<AxesSubplot:xlabel='sex', ylabel='count'>,)"
      ]
     },
     "execution_count": 59,
     "metadata": {},
     "output_type": "execute_result"
    },
    {
     "data": {
      "image/png": "[encoded data removed]",
      "text/plain": [
       "<Figure size 432x288 with 1 Axes>"
      ]
     },
     "metadata": {
      "needs_background": "light"
     },
     "output_type": "display_data"
    }
   ],
   "source": [
    "sns.countplot(data=tips, x = 'sex');"
   ]
  },
  {
   "cell_type": "markdown",
   "id": "3a56b0f8-185b-4219-b4fa-75d554c16816",
   "metadata": {},
   "source": [
    "##### Observation:\n",
    "There are more male than female in the dataset, it will be important to make any visualization on gender percentage wise."
   ]
  },
  {
   "cell_type": "code",
   "execution_count": 60,
   "id": "064abf45-ebbf-46b9-987c-fd5ab379cbb8",
   "metadata": {},
   "outputs": [
    {
     "data": {
      "image/png": "[encoded data removed]",
      "text/plain": [
       "<Figure size 432x288 with 1 Axes>"
      ]
     },
     "metadata": {
      "needs_background": "light"
     },
     "output_type": "display_data"
    }
   ],
   "source": [
    "sns.countplot(data=tips, x = 'time');"
   ]
  },
  {
   "cell_type": "markdown",
   "id": "c5c51370-663e-49fe-be7e-00483d0e5629",
   "metadata": {},
   "source": [
    "##### Observation:\n",
    "There are more dinner observations than lunch in the dataset, this might cause imbalance.\n",
    "it will be important to make any visualization on these a percentage"
   ]
  },
  {
   "cell_type": "code",
   "execution_count": 61,
   "id": "531abec4-43fb-4bf6-aa4d-90060f9bd631",
   "metadata": {},
   "outputs": [
    {
     "data": {
      "image/png": "[encoded data removed]",
      "text/plain": [
       "<Figure size 432x288 with 1 Axes>"
      ]
     },
     "metadata": {
      "needs_background": "light"
     },
     "output_type": "display_data"
    }
   ],
   "source": [
    "sns.countplot(data=tips, x = 'smoker');"
   ]
  },
  {
   "cell_type": "markdown",
   "id": "a279262c-bb4a-4251-b3c8-af6a28f111bc",
   "metadata": {},
   "source": [
    "##### Observation:\n",
    "There are more non smokers than smokers in the dataset, this might cause imbalance.\n",
    "it will be important to make any visualization on these a percentage"
   ]
  },
  {
   "cell_type": "code",
   "execution_count": 62,
   "id": "e8c59838-2984-4b7a-a4ef-74a738ad1ee8",
   "metadata": {},
   "outputs": [
    {
     "data": {
      "image/png": "[encoded data removed]",
      "text/plain": [
       "<Figure size 432x288 with 1 Axes>"
      ]
     },
     "metadata": {
      "needs_background": "light"
     },
     "output_type": "display_data"
    }
   ],
   "source": [
    "sns.countplot(data=tips, x = 'day');"
   ]
  },
  {
   "cell_type": "markdown",
   "id": "16ab88a9-0a73-4006-a96c-51101f729da7",
   "metadata": {},
   "source": [
    "##### Observation:\n",
    "There are very few data on friday observation, this might cause imbalance. it will be important to make any visualization on these a percentage"
   ]
  },
  {
   "cell_type": "markdown",
   "id": "dc01e83c-6713-49d3-a0ae-7aaf40839c53",
   "metadata": {},
   "source": [
    "## Bivariate Visualization"
   ]
  },
  {
   "cell_type": "code",
   "execution_count": 71,
   "id": "59d626f6-10de-424a-b1e7-bf304e194e80",
   "metadata": {},
   "outputs": [
    {
     "data": {
      "image/png": "[encoded data removed]",
      "text/plain": [
       "<Figure size 432x288 with 1 Axes>"
      ]
     },
     "metadata": {
      "needs_background": "light"
     },
     "output_type": "display_data"
    }
   ],
   "source": [
    "sns.scatterplot(data=tips, y='tip', x='total_bill', hue = 'smoker');"
   ]
  },
  {
   "cell_type": "code",
   "execution_count": 72,
   "id": "5916de26-7c76-457d-bbda-0c1530943b76",
   "metadata": {},
   "outputs": [
    {
     "data": {
      "image/png": "[encoded data removed]",
      "text/plain": [
       "<Figure size 432x288 with 1 Axes>"
      ]
     },
     "metadata": {
      "needs_background": "light"
     },
     "output_type": "display_data"
    }
   ],
   "source": [
    "tips.groupby('time')['tip'].mean().plot(kind='bar', color=base_color)\n",
    "plt.ylabel('mean tip')\n",
    "plt.xticks(rotation=0);"
   ]
  },
  {
   "cell_type": "code",
   "execution_count": 13,
   "id": "0d185291-e62a-4e8a-81eb-5f9207ed0307",
   "metadata": {},
   "outputs": [
    {
     "data": {
      "text/plain": [
       "<AxesSubplot:xlabel='time', ylabel='tip'>"
      ]
     },
     "execution_count": 13,
     "metadata": {},
     "output_type": "execute_result"
    },
    {
     "data": {
      "image/png": "[encoded data removed]",
      "text/plain": [
       "<Figure size 432x288 with 1 Axes>"
      ]
     },
     "metadata": {
      "needs_background": "light"
     },
     "output_type": "display_data"
    }
   ],
   "source": [
    "sns.violinplot(data = tips, x = 'time', y = 'tip', inner='quartile')"
   ]
  },
  {
   "cell_type": "code",
   "execution_count": 14,
   "id": "c5fa4a08-77aa-455d-8837-d2aa49e64079",
   "metadata": {},
   "outputs": [
    {
     "data": {
      "image/png": "[encoded data removed]",
      "text/plain": [
       "<Figure size 432x288 with 1 Axes>"
      ]
     },
     "metadata": {
      "needs_background": "light"
     },
     "output_type": "display_data"
    }
   ],
   "source": [
    "tips.groupby('day')['tip'].mean().plot(kind='bar', color=base_color)\n",
    "plt.ylabel('mean tip')\n",
    "plt.xticks(rotation=0);"
   ]
  },
  {
   "cell_type": "code",
   "execution_count": 15,
   "id": "4ee27941-82c1-44a2-aed4-7e3a2aaf4c9c",
   "metadata": {},
   "outputs": [
    {
     "data": {
      "text/plain": [
       "<AxesSubplot:xlabel='day', ylabel='tip'>"
      ]
     },
     "execution_count": 15,
     "metadata": {},
     "output_type": "execute_result"
    },
    {
     "data": {
      "image/png": "[encoded data removed]",
      "text/plain": [
       "<Figure size 432x288 with 1 Axes>"
      ]
     },
     "metadata": {
      "needs_background": "light"
     },
     "output_type": "display_data"
    }
   ],
   "source": [
    "sns.violinplot(data = tips, x = 'day', y = 'tip', inner='quartile', color=base_color)"
   ]
  },
  {
   "cell_type": "code",
   "execution_count": 16,
   "id": "495300f2-7188-40a5-b2c8-1f42f7bc71d1",
   "metadata": {},
   "outputs": [
    {
     "data": {
      "image/png": "[encoded data removed]",
      "text/plain": [
       "<Figure size 432x288 with 1 Axes>"
      ]
     },
     "metadata": {
      "needs_background": "light"
     },
     "output_type": "display_data"
    }
   ],
   "source": [
    "tips.groupby('smoker')['tip'].mean().plot(kind='bar', color=base_color)\n",
    "plt.ylabel('mean tip')\n",
    "plt.xticks(rotation=0);"
   ]
  },
  {
   "cell_type": "code",
   "execution_count": 142,
   "id": "31d62a17-ac34-4e87-ae4d-e6c48f49ed39",
   "metadata": {},
   "outputs": [
    {
     "data": {
      "text/plain": [
       "<AxesSubplot:xlabel='smoker', ylabel='tip'>"
      ]
     },
     "execution_count": 142,
     "metadata": {},
     "output_type": "execute_result"
    },
    {
     "data": {
      "image/png": "[encoded data removed]",
      "text/plain": [
       "<Figure size 432x288 with 1 Axes>"
      ]
     },
     "metadata": {
      "needs_background": "light"
     },
     "output_type": "display_data"
    }
   ],
   "source": [
    "sns.violinplot(data = tips, x = 'smoker', y = 'tip', inner='quartile', color=base_color)"
   ]
  },
  {
   "cell_type": "code",
   "execution_count": 18,
   "id": "fccf1383-5706-44a7-9a31-872240419a02",
   "metadata": {},
   "outputs": [
    {
     "data": {
      "text/plain": [
       "<AxesSubplot:xlabel='sex', ylabel='tip'>"
      ]
     },
     "execution_count": 18,
     "metadata": {},
     "output_type": "execute_result"
    },
    {
     "data": {
      "image/png": "[encoded data removed]",
      "text/plain": [
       "<Figure size 432x288 with 1 Axes>"
      ]
     },
     "metadata": {
      "needs_background": "light"
     },
     "output_type": "display_data"
    }
   ],
   "source": [
    "sns.violinplot(data = tips, x = 'sex', y = 'tip', inner='quartile', color=base_color)"
   ]
  },
  {
   "cell_type": "code",
   "execution_count": 19,
   "id": "f792afa0-d2ff-4772-b2c4-246db791c2ac",
   "metadata": {},
   "outputs": [
    {
     "data": {
      "image/png": "[encoded data removed]",
      "text/plain": [
       "<Figure size 432x288 with 1 Axes>"
      ]
     },
     "metadata": {
      "needs_background": "light"
     },
     "output_type": "display_data"
    }
   ],
   "source": [
    "tips.groupby('sex')['tip'].mean().plot(kind='bar', color=base_color)\n",
    "plt.xticks(rotation=0);"
   ]
  },
  {
   "cell_type": "markdown",
   "id": "351a9f72-c936-4b1d-ada4-5d8a98900080",
   "metadata": {},
   "source": [
    "## Multivariate Visualization"
   ]
  },
  {
   "cell_type": "code",
   "execution_count": 70,
   "id": "deb73ca0-2887-4c40-8317-28256542d459",
   "metadata": {},
   "outputs": [
    {
     "data": {
      "text/plain": [
       "<matplotlib.legend.Legend at 0x23fb4d18dc0>"
      ]
     },
     "execution_count": 70,
     "metadata": {},
     "output_type": "execute_result"
    },
    {
     "data": {
      "image/png": "[encoded data removed]",
      "text/plain": [
       "<Figure size 432x216 with 2 Axes>"
      ]
     },
     "metadata": {
      "needs_background": "light"
     },
     "output_type": "display_data"
    }
   ],
   "source": [
    "facet = sns.FacetGrid(tips, col='sex', hue='smoker')\n",
    "facet.map(plt.scatter, 'total_bill', 'tip')\n",
    "plt.legend(['Smoker', 'Non Smoker'])"
   ]
  },
  {
   "cell_type": "markdown",
   "id": "644b2d84-c80d-4b15-bb99-3b1a460f89d1",
   "metadata": {},
   "source": [
    "#### Observation:\n",
    "* Male seems to give more tip than female, this might be becase there are more male observations than female. \n",
    "* There seems to be no significant difference between smolers and non smokers"
   ]
  },
  {
   "cell_type": "markdown",
   "id": "a6c85dde-0634-4d9d-a9ef-0ac72dac7455",
   "metadata": {},
   "source": [
    "## Tips Prediction"
   ]
  },
  {
   "cell_type": "code",
   "execution_count": 73,
   "id": "881f0121-9803-447b-b146-7276e4f2a4c4",
   "metadata": {},
   "outputs": [
    {
     "data": {
      "text/html": [
       "<div>\n",
       "<style scoped>\n",
       "    .dataframe tbody tr th:only-of-type {\n",
       "        vertical-align: middle;\n",
       "    }\n",
       "\n",
       "    .dataframe tbody tr th {\n",
       "        vertical-align: top;\n",
       "    }\n",
       "\n",
       "    .dataframe thead th {\n",
       "        text-align: right;\n",
       "    }\n",
       "</style>\n",
       "<table border=\"1\" class=\"dataframe\">\n",
       "  <thead>\n",
       "    <tr style=\"text-align: right;\">\n",
       "      <th></th>\n",
       "      <th>total_bill</th>\n",
       "      <th>tip</th>\n",
       "      <th>size</th>\n",
       "      <th>sex_Male</th>\n",
       "      <th>sex_Female</th>\n",
       "      <th>smoker_Yes</th>\n",
       "      <th>smoker_No</th>\n",
       "      <th>day_Thur</th>\n",
       "      <th>day_Fri</th>\n",
       "      <th>day_Sat</th>\n",
       "      <th>day_Sun</th>\n",
       "      <th>time_Lunch</th>\n",
       "      <th>time_Dinner</th>\n",
       "    </tr>\n",
       "  </thead>\n",
       "  <tbody>\n",
       "    <tr>\n",
       "      <th>199</th>\n",
       "      <td>13.51</td>\n",
       "      <td>2.00</td>\n",
       "      <td>2</td>\n",
       "      <td>1</td>\n",
       "      <td>0</td>\n",
       "      <td>1</td>\n",
       "      <td>0</td>\n",
       "      <td>1</td>\n",
       "      <td>0</td>\n",
       "      <td>0</td>\n",
       "      <td>0</td>\n",
       "      <td>1</td>\n",
       "      <td>0</td>\n",
       "    </tr>\n",
       "    <tr>\n",
       "      <th>149</th>\n",
       "      <td>7.51</td>\n",
       "      <td>2.00</td>\n",
       "      <td>2</td>\n",
       "      <td>1</td>\n",
       "      <td>0</td>\n",
       "      <td>0</td>\n",
       "      <td>1</td>\n",
       "      <td>1</td>\n",
       "      <td>0</td>\n",
       "      <td>0</td>\n",
       "      <td>0</td>\n",
       "      <td>1</td>\n",
       "      <td>0</td>\n",
       "    </tr>\n",
       "    <tr>\n",
       "      <th>102</th>\n",
       "      <td>44.30</td>\n",
       "      <td>2.50</td>\n",
       "      <td>3</td>\n",
       "      <td>0</td>\n",
       "      <td>1</td>\n",
       "      <td>1</td>\n",
       "      <td>0</td>\n",
       "      <td>0</td>\n",
       "      <td>0</td>\n",
       "      <td>1</td>\n",
       "      <td>0</td>\n",
       "      <td>0</td>\n",
       "      <td>1</td>\n",
       "    </tr>\n",
       "    <tr>\n",
       "      <th>117</th>\n",
       "      <td>10.65</td>\n",
       "      <td>1.50</td>\n",
       "      <td>2</td>\n",
       "      <td>0</td>\n",
       "      <td>1</td>\n",
       "      <td>0</td>\n",
       "      <td>1</td>\n",
       "      <td>1</td>\n",
       "      <td>0</td>\n",
       "      <td>0</td>\n",
       "      <td>0</td>\n",
       "      <td>1</td>\n",
       "      <td>0</td>\n",
       "    </tr>\n",
       "    <tr>\n",
       "      <th>87</th>\n",
       "      <td>18.28</td>\n",
       "      <td>4.00</td>\n",
       "      <td>2</td>\n",
       "      <td>1</td>\n",
       "      <td>0</td>\n",
       "      <td>0</td>\n",
       "      <td>1</td>\n",
       "      <td>1</td>\n",
       "      <td>0</td>\n",
       "      <td>0</td>\n",
       "      <td>0</td>\n",
       "      <td>1</td>\n",
       "      <td>0</td>\n",
       "    </tr>\n",
       "    <tr>\n",
       "      <th>141</th>\n",
       "      <td>34.30</td>\n",
       "      <td>6.70</td>\n",
       "      <td>6</td>\n",
       "      <td>1</td>\n",
       "      <td>0</td>\n",
       "      <td>0</td>\n",
       "      <td>1</td>\n",
       "      <td>1</td>\n",
       "      <td>0</td>\n",
       "      <td>0</td>\n",
       "      <td>0</td>\n",
       "      <td>1</td>\n",
       "      <td>0</td>\n",
       "    </tr>\n",
       "    <tr>\n",
       "      <th>139</th>\n",
       "      <td>13.16</td>\n",
       "      <td>2.75</td>\n",
       "      <td>2</td>\n",
       "      <td>0</td>\n",
       "      <td>1</td>\n",
       "      <td>0</td>\n",
       "      <td>1</td>\n",
       "      <td>1</td>\n",
       "      <td>0</td>\n",
       "      <td>0</td>\n",
       "      <td>0</td>\n",
       "      <td>1</td>\n",
       "      <td>0</td>\n",
       "    </tr>\n",
       "    <tr>\n",
       "      <th>83</th>\n",
       "      <td>32.68</td>\n",
       "      <td>5.00</td>\n",
       "      <td>2</td>\n",
       "      <td>1</td>\n",
       "      <td>0</td>\n",
       "      <td>1</td>\n",
       "      <td>0</td>\n",
       "      <td>1</td>\n",
       "      <td>0</td>\n",
       "      <td>0</td>\n",
       "      <td>0</td>\n",
       "      <td>1</td>\n",
       "      <td>0</td>\n",
       "    </tr>\n",
       "    <tr>\n",
       "      <th>131</th>\n",
       "      <td>20.27</td>\n",
       "      <td>2.83</td>\n",
       "      <td>2</td>\n",
       "      <td>0</td>\n",
       "      <td>1</td>\n",
       "      <td>0</td>\n",
       "      <td>1</td>\n",
       "      <td>1</td>\n",
       "      <td>0</td>\n",
       "      <td>0</td>\n",
       "      <td>0</td>\n",
       "      <td>1</td>\n",
       "      <td>0</td>\n",
       "    </tr>\n",
       "    <tr>\n",
       "      <th>138</th>\n",
       "      <td>16.00</td>\n",
       "      <td>2.00</td>\n",
       "      <td>2</td>\n",
       "      <td>1</td>\n",
       "      <td>0</td>\n",
       "      <td>1</td>\n",
       "      <td>0</td>\n",
       "      <td>1</td>\n",
       "      <td>0</td>\n",
       "      <td>0</td>\n",
       "      <td>0</td>\n",
       "      <td>1</td>\n",
       "      <td>0</td>\n",
       "    </tr>\n",
       "    <tr>\n",
       "      <th>46</th>\n",
       "      <td>22.23</td>\n",
       "      <td>5.00</td>\n",
       "      <td>2</td>\n",
       "      <td>1</td>\n",
       "      <td>0</td>\n",
       "      <td>0</td>\n",
       "      <td>1</td>\n",
       "      <td>0</td>\n",
       "      <td>0</td>\n",
       "      <td>0</td>\n",
       "      <td>1</td>\n",
       "      <td>0</td>\n",
       "      <td>1</td>\n",
       "    </tr>\n",
       "    <tr>\n",
       "      <th>231</th>\n",
       "      <td>15.69</td>\n",
       "      <td>3.00</td>\n",
       "      <td>3</td>\n",
       "      <td>1</td>\n",
       "      <td>0</td>\n",
       "      <td>1</td>\n",
       "      <td>0</td>\n",
       "      <td>0</td>\n",
       "      <td>0</td>\n",
       "      <td>1</td>\n",
       "      <td>0</td>\n",
       "      <td>0</td>\n",
       "      <td>1</td>\n",
       "    </tr>\n",
       "    <tr>\n",
       "      <th>207</th>\n",
       "      <td>38.73</td>\n",
       "      <td>3.00</td>\n",
       "      <td>4</td>\n",
       "      <td>1</td>\n",
       "      <td>0</td>\n",
       "      <td>1</td>\n",
       "      <td>0</td>\n",
       "      <td>0</td>\n",
       "      <td>0</td>\n",
       "      <td>1</td>\n",
       "      <td>0</td>\n",
       "      <td>0</td>\n",
       "      <td>1</td>\n",
       "    </tr>\n",
       "    <tr>\n",
       "      <th>140</th>\n",
       "      <td>17.47</td>\n",
       "      <td>3.50</td>\n",
       "      <td>2</td>\n",
       "      <td>0</td>\n",
       "      <td>1</td>\n",
       "      <td>0</td>\n",
       "      <td>1</td>\n",
       "      <td>1</td>\n",
       "      <td>0</td>\n",
       "      <td>0</td>\n",
       "      <td>0</td>\n",
       "      <td>1</td>\n",
       "      <td>0</td>\n",
       "    </tr>\n",
       "    <tr>\n",
       "      <th>228</th>\n",
       "      <td>13.28</td>\n",
       "      <td>2.72</td>\n",
       "      <td>2</td>\n",
       "      <td>1</td>\n",
       "      <td>0</td>\n",
       "      <td>0</td>\n",
       "      <td>1</td>\n",
       "      <td>0</td>\n",
       "      <td>0</td>\n",
       "      <td>1</td>\n",
       "      <td>0</td>\n",
       "      <td>0</td>\n",
       "      <td>1</td>\n",
       "    </tr>\n",
       "    <tr>\n",
       "      <th>162</th>\n",
       "      <td>16.21</td>\n",
       "      <td>2.00</td>\n",
       "      <td>3</td>\n",
       "      <td>0</td>\n",
       "      <td>1</td>\n",
       "      <td>0</td>\n",
       "      <td>1</td>\n",
       "      <td>0</td>\n",
       "      <td>0</td>\n",
       "      <td>0</td>\n",
       "      <td>1</td>\n",
       "      <td>0</td>\n",
       "      <td>1</td>\n",
       "    </tr>\n",
       "    <tr>\n",
       "      <th>190</th>\n",
       "      <td>15.69</td>\n",
       "      <td>1.50</td>\n",
       "      <td>2</td>\n",
       "      <td>1</td>\n",
       "      <td>0</td>\n",
       "      <td>1</td>\n",
       "      <td>0</td>\n",
       "      <td>0</td>\n",
       "      <td>0</td>\n",
       "      <td>0</td>\n",
       "      <td>1</td>\n",
       "      <td>0</td>\n",
       "      <td>1</td>\n",
       "    </tr>\n",
       "    <tr>\n",
       "      <th>28</th>\n",
       "      <td>21.70</td>\n",
       "      <td>4.30</td>\n",
       "      <td>2</td>\n",
       "      <td>1</td>\n",
       "      <td>0</td>\n",
       "      <td>0</td>\n",
       "      <td>1</td>\n",
       "      <td>0</td>\n",
       "      <td>0</td>\n",
       "      <td>1</td>\n",
       "      <td>0</td>\n",
       "      <td>0</td>\n",
       "      <td>1</td>\n",
       "    </tr>\n",
       "    <tr>\n",
       "      <th>41</th>\n",
       "      <td>17.46</td>\n",
       "      <td>2.54</td>\n",
       "      <td>2</td>\n",
       "      <td>1</td>\n",
       "      <td>0</td>\n",
       "      <td>0</td>\n",
       "      <td>1</td>\n",
       "      <td>0</td>\n",
       "      <td>0</td>\n",
       "      <td>0</td>\n",
       "      <td>1</td>\n",
       "      <td>0</td>\n",
       "      <td>1</td>\n",
       "    </tr>\n",
       "    <tr>\n",
       "      <th>25</th>\n",
       "      <td>17.81</td>\n",
       "      <td>2.34</td>\n",
       "      <td>4</td>\n",
       "      <td>1</td>\n",
       "      <td>0</td>\n",
       "      <td>0</td>\n",
       "      <td>1</td>\n",
       "      <td>0</td>\n",
       "      <td>0</td>\n",
       "      <td>1</td>\n",
       "      <td>0</td>\n",
       "      <td>0</td>\n",
       "      <td>1</td>\n",
       "    </tr>\n",
       "  </tbody>\n",
       "</table>\n",
       "</div>"
      ],
      "text/plain": [
       "     total_bill   tip  size  sex_Male  sex_Female  smoker_Yes  smoker_No  \\\n",
       "199       13.51  2.00     2         1           0           1          0   \n",
       "149        7.51  2.00     2         1           0           0          1   \n",
       "102       44.30  2.50     3         0           1           1          0   \n",
       "117       10.65  1.50     2         0           1           0          1   \n",
       "87        18.28  4.00     2         1           0           0          1   \n",
       "141       34.30  6.70     6         1           0           0          1   \n",
       "139       13.16  2.75     2         0           1           0          1   \n",
       "83        32.68  5.00     2         1           0           1          0   \n",
       "131       20.27  2.83     2         0           1           0          1   \n",
       "138       16.00  2.00     2         1           0           1          0   \n",
       "46        22.23  5.00     2         1           0           0          1   \n",
       "231       15.69  3.00     3         1           0           1          0   \n",
       "207       38.73  3.00     4         1           0           1          0   \n",
       "140       17.47  3.50     2         0           1           0          1   \n",
       "228       13.28  2.72     2         1           0           0          1   \n",
       "162       16.21  2.00     3         0           1           0          1   \n",
       "190       15.69  1.50     2         1           0           1          0   \n",
       "28        21.70  4.30     2         1           0           0          1   \n",
       "41        17.46  2.54     2         1           0           0          1   \n",
       "25        17.81  2.34     4         1           0           0          1   \n",
       "\n",
       "     day_Thur  day_Fri  day_Sat  day_Sun  time_Lunch  time_Dinner  \n",
       "199         1        0        0        0           1            0  \n",
       "149         1        0        0        0           1            0  \n",
       "102         0        0        1        0           0            1  \n",
       "117         1        0        0        0           1            0  \n",
       "87          1        0        0        0           1            0  \n",
       "141         1        0        0        0           1            0  \n",
       "139         1        0        0        0           1            0  \n",
       "83          1        0        0        0           1            0  \n",
       "131         1        0        0        0           1            0  \n",
       "138         1        0        0        0           1            0  \n",
       "46          0        0        0        1           0            1  \n",
       "231         0        0        1        0           0            1  \n",
       "207         0        0        1        0           0            1  \n",
       "140         1        0        0        0           1            0  \n",
       "228         0        0        1        0           0            1  \n",
       "162         0        0        0        1           0            1  \n",
       "190         0        0        0        1           0            1  \n",
       "28          0        0        1        0           0            1  \n",
       "41          0        0        0        1           0            1  \n",
       "25          0        0        1        0           0            1  "
      ]
     },
     "execution_count": 73,
     "metadata": {},
     "output_type": "execute_result"
    }
   ],
   "source": [
    "#for us to be able to work with a machine learning algorithm, we need to encode the string data.\n",
    "\n",
    "tips_dummy = pd.get_dummies(tips, drop_first=False)\n",
    "tips_dummy.sample(20)"
   ]
  },
  {
   "cell_type": "code",
   "execution_count": 74,
   "id": "462bba97-298e-4df3-a1ea-943d30471469",
   "metadata": {},
   "outputs": [],
   "source": [
    "#seperate data into features and target, where feature is 'X' and target is 'y'\n",
    "X = tips_dummy[['total_bill', 'size', 'sex_Male', 'sex_Female', 'day_Thur', 'day_Fri', 'day_Sat', 'day_Sun', 'time_Lunch', 'time_Dinner']]\n",
    "y = tips_dummy['tip']"
   ]
  },
  {
   "cell_type": "code",
   "execution_count": 75,
   "id": "fc55942a-a266-407e-b1b9-96b6a86426e8",
   "metadata": {},
   "outputs": [],
   "source": [
    "#split the data into train and test sets\n",
    "X_train, X_test, y_train, y_test = train_test_split(X, y, test_size=0.20, random_state=40)"
   ]
  },
  {
   "cell_type": "markdown",
   "id": "b8232cb1-e143-4897-a646-f2b3a58a939e",
   "metadata": {},
   "source": [
    "#### LinearRegression"
   ]
  },
  {
   "cell_type": "code",
   "execution_count": 23,
   "id": "bca85946-2743-4478-a419-4419efa7b5ed",
   "metadata": {},
   "outputs": [],
   "source": [
    "#create a linear regression model\n",
    "model = linear_model.LinearRegression()"
   ]
  },
  {
   "cell_type": "code",
   "execution_count": 24,
   "id": "625598f3-a2d6-467e-bb20-68fe1829a0df",
   "metadata": {},
   "outputs": [
    {
     "data": {
      "text/plain": [
       "LinearRegression()"
      ]
     },
     "execution_count": 24,
     "metadata": {},
     "output_type": "execute_result"
    }
   ],
   "source": [
    "#use the train set to fit the model\n",
    "model.fit(X_train, y_train)"
   ]
  },
  {
   "cell_type": "code",
   "execution_count": 25,
   "id": "dc2bb94a-accb-4892-8d07-fdb399814e6f",
   "metadata": {},
   "outputs": [
    {
     "data": {
      "text/plain": [
       "array([ 0.08020629,  0.19336931, -0.02550841,  0.02550841,  0.11253014,\n",
       "        0.04351797, -0.15306667, -0.00298145, -0.06614742,  0.06614742])"
      ]
     },
     "execution_count": 25,
     "metadata": {},
     "output_type": "execute_result"
    }
   ],
   "source": [
    "model.coef_"
   ]
  },
  {
   "cell_type": "code",
   "execution_count": 26,
   "id": "44ccfdd1-bc91-421f-96ee-0abbdcc5d879",
   "metadata": {},
   "outputs": [
    {
     "data": {
      "text/plain": [
       "array([2.80975909, 2.31905612, 5.16349848, 3.11575971, 2.26836662,\n",
       "       2.87730398, 2.45084956, 4.59860314, 2.59121057, 3.76958529,\n",
       "       2.38883559, 3.81586118, 2.0465104 , 2.25713774, 2.78496729,\n",
       "       3.3396675 , 5.45133961, 2.95589407, 2.10040814, 3.64596815,\n",
       "       2.46127638, 2.44337587, 2.78820284, 1.62183176, 2.37436369,\n",
       "       2.34415496, 2.08629834, 4.26285398, 2.93826076, 3.05542202,\n",
       "       2.42252223, 4.35805641, 3.44394775, 1.99934822, 3.30582132,\n",
       "       4.53063217, 2.32334687, 3.74792959, 3.27991226, 5.44098494,\n",
       "       2.83157432, 3.50874324, 2.03672997, 2.38588246, 2.98660028,\n",
       "       1.74177911, 4.73115927, 2.06656197, 2.25504675])"
      ]
     },
     "execution_count": 26,
     "metadata": {},
     "output_type": "execute_result"
    }
   ],
   "source": [
    "#make prediction with the model\n",
    "model.predict(X_test)"
   ]
  },
  {
   "cell_type": "code",
   "execution_count": 27,
   "id": "bafbec8a-e9c7-4b5f-a800-40381df6a7ac",
   "metadata": {},
   "outputs": [
    {
     "data": {
      "text/plain": [
       "0.5792177332855037"
      ]
     },
     "execution_count": 27,
     "metadata": {},
     "output_type": "execute_result"
    }
   ],
   "source": [
    "#check the accuracy of the prediction\n",
    "model.score(X_test, y_test)"
   ]
  },
  {
   "cell_type": "markdown",
   "id": "527bb56d-2fe3-493c-aa0f-d1b11ba4ceb5",
   "metadata": {},
   "source": [
    "#### SVM"
   ]
  },
  {
   "cell_type": "code",
   "execution_count": 76,
   "id": "1723d4a5-f63b-48ab-8710-78c03f17ba3b",
   "metadata": {},
   "outputs": [],
   "source": [
    "#import necessary libraries for SVR and SVC\n",
    "from sklearn.svm import SVR\n",
    "from sklearn.svm import SVC\n",
    "#import libraries for pipeline\n",
    "from sklearn.pipeline import make_pipeline\n",
    "#import data scaling library\n",
    "from sklearn.preprocessing import StandardScaler"
   ]
  },
  {
   "cell_type": "markdown",
   "id": "f78ba0e6-ba57-4f5f-996a-0d8328b8a58d",
   "metadata": {},
   "source": [
    "##### SVM_SVR with standard scaler"
   ]
  },
  {
   "cell_type": "code",
   "execution_count": 133,
   "id": "0879076b-35ea-4976-b2ee-9ef9346a80b1",
   "metadata": {},
   "outputs": [],
   "source": [
    "#create a pipeline with StandardScaler and SVR\n",
    "regresn = make_pipeline(StandardScaler(), SVR(C=4.0, kernel='linear', epsilon=0.3))\n"
   ]
  },
  {
   "cell_type": "code",
   "execution_count": 134,
   "id": "0e4d0973-1dcb-4d8d-920c-671cd4c7e13c",
   "metadata": {},
   "outputs": [
    {
     "data": {
      "text/plain": [
       "Pipeline(steps=[('standardscaler', StandardScaler()),\n",
       "                ('svr', SVR(C=4.0, epsilon=0.3, kernel='linear'))])"
      ]
     },
     "execution_count": 134,
     "metadata": {},
     "output_type": "execute_result"
    }
   ],
   "source": [
    "regresn.fit(X_train, y_train)"
   ]
  },
  {
   "cell_type": "code",
   "execution_count": 135,
   "id": "0abf0add-0cb3-4165-8f59-67aa681bf0e6",
   "metadata": {},
   "outputs": [
    {
     "data": {
      "text/plain": [
       "0.5819591546183388"
      ]
     },
     "execution_count": 135,
     "metadata": {},
     "output_type": "execute_result"
    }
   ],
   "source": [
    "regresn.score(X_test, y_test)"
   ]
  },
  {
   "cell_type": "markdown",
   "id": "f35edb52-2de4-406d-8364-caed4993682b",
   "metadata": {},
   "source": [
    "##### SVM_SVR without standard scaler"
   ]
  },
  {
   "cell_type": "code",
   "execution_count": 128,
   "id": "7a9a29a5-7ce2-4247-ba1c-ca4a059e92b1",
   "metadata": {},
   "outputs": [
    {
     "data": {
      "text/plain": [
       "0.5093163592982917"
      ]
     },
     "execution_count": 128,
     "metadata": {},
     "output_type": "execute_result"
    }
   ],
   "source": [
    "clf = SVR(kernel='poly', C=2, epsilon=0.2).fit(X_train, y_train)\n",
    "clf.score(X_test, y_test) "
   ]
  },
  {
   "cell_type": "code",
   "execution_count": 139,
   "id": "c7bd7879-3251-4423-848a-581ddb91a9bf",
   "metadata": {},
   "outputs": [
    {
     "name": "stderr",
     "output_type": "stream",
     "text": [
      "C:\\Users\\user\\anaconda3\\lib\\site-packages\\sklearn\\svm\\_base.py:1206: ConvergenceWarning: Liblinear failed to converge, increase the number of iterations.\n",
      "  warnings.warn(\n"
     ]
    },
    {
     "data": {
      "text/plain": [
       "0.5927745568626216"
      ]
     },
     "execution_count": 139,
     "metadata": {},
     "output_type": "execute_result"
    }
   ],
   "source": [
    "clf = svm.LinearSVR( C=2).fit(X_train, y_train)\n",
    "clf.score(X_test, y_test)"
   ]
  },
  {
   "cell_type": "code",
   "execution_count": 38,
   "id": "93d8efe9-b714-4f8b-9f70-1c4b14a6a6dc",
   "metadata": {},
   "outputs": [],
   "source": [
    "from sklearn import svm"
   ]
  },
  {
   "cell_type": "code",
   "execution_count": 136,
   "id": "6c9b4373-cbcf-4df6-8a55-91c529e8d74d",
   "metadata": {},
   "outputs": [],
   "source": [
    "from sklearn import preprocessing\n",
    "from sklearn import utils"
   ]
  },
  {
   "cell_type": "code",
   "execution_count": 137,
   "id": "a719fc3c-9888-475d-a089-723231a7fec9",
   "metadata": {},
   "outputs": [],
   "source": [
    "# Use label encoder to be able to work with SVC\n",
    "# SVC works with classification problem while SVR is a regression problem\n",
    "label = preprocessing.LabelEncoder() \n",
    "y_transfromed = label.fit_transform(y)"
   ]
  },
  {
   "cell_type": "code",
   "execution_count": 138,
   "id": "44f0a080-398a-4ecd-9f5f-e3e6950ff701",
   "metadata": {},
   "outputs": [],
   "source": [
    "X_train, X_test, y_train, y_test = train_test_split(X, y_transfromed, test_size=0.20, random_state=40)"
   ]
  },
  {
   "cell_type": "code",
   "execution_count": 42,
   "id": "e6098772-47cd-4e64-bda7-2d037aec7fb2",
   "metadata": {},
   "outputs": [
    {
     "data": {
      "text/plain": [
       "0.08163265306122448"
      ]
     },
     "execution_count": 42,
     "metadata": {},
     "output_type": "execute_result"
    }
   ],
   "source": [
    "clf = svm.SVC(kernel='poly', C=1).fit(X_train, y_train)\n",
    "clf.score(X_test, y_test)"
   ]
  },
  {
   "cell_type": "code",
   "execution_count": 48,
   "id": "74a8dded-d2d7-4c2a-a5ef-9b8406309071",
   "metadata": {},
   "outputs": [
    {
     "name": "stderr",
     "output_type": "stream",
     "text": [
      "C:\\Users\\user\\anaconda3\\lib\\site-packages\\sklearn\\svm\\_base.py:1206: ConvergenceWarning: Liblinear failed to converge, increase the number of iterations.\n",
      "  warnings.warn(\n"
     ]
    },
    {
     "data": {
      "text/plain": [
       "0.592113851690143"
      ]
     },
     "execution_count": 48,
     "metadata": {},
     "output_type": "execute_result"
    }
   ],
   "source": [
    "clf = svm.LinearSVR( C=2).fit(X_train, y_train)\n",
    "clf.score(X_test, y_test)"
   ]
  },
  {
   "cell_type": "code",
   "execution_count": null,
   "id": "488442a5-20b6-4f15-a80f-1826043e135b",
   "metadata": {},
   "outputs": [],
   "source": []
  }
 ],
 "metadata": {
  "kernelspec": {
   "display_name": "Python 3 (ipykernel)",
   "language": "python",
   "name": "python3"
  },
  "language_info": {
   "codemirror_mode": {
    "name": "ipython",
    "version": 3
   },
   "file_extension": ".py",
   "mimetype": "text/x-python",
   "name": "python",
   "nbconvert_exporter": "python",
   "pygments_lexer": "ipython3",
   "version": "3.9.12"
  }
 },
 "nbformat": 4,
 "nbformat_minor": 5
}
